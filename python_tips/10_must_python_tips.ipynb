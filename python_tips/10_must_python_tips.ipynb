{
 "cells": [
  {
   "cell_type": "markdown",
   "id": "653c7e75",
   "metadata": {},
   "source": [
    "# 10 Python Basics you should know\n",
    "Source: Python Engineer"
   ]
  },
  {
   "cell_type": "markdown",
   "id": "8468206f",
   "metadata": {},
   "source": [
    "## 1.How to remove elements from a list while looping"
   ]
  },
  {
   "cell_type": "code",
   "execution_count": 19,
   "id": "bdaa87fe",
   "metadata": {},
   "outputs": [],
   "source": [
    "# lets create a simple list\n",
    "mylist = [1,2,2,3,4]\n",
    "\n"
   ]
  },
  {
   "cell_type": "markdown",
   "id": "58b40473",
   "metadata": {},
   "source": [
    "**Never loop over a list and remove elements at the same time**"
   ]
  },
  {
   "cell_type": "code",
   "execution_count": 14,
   "id": "4b45d51e",
   "metadata": {},
   "outputs": [],
   "source": [
    "# helper function\n",
    "\n",
    "def even(x):\n",
    "    return x % 2 == 0"
   ]
  },
  {
   "cell_type": "code",
   "execution_count": 15,
   "id": "f44b1d80",
   "metadata": {},
   "outputs": [
    {
     "data": {
      "text/plain": [
       "(False, True)"
      ]
     },
     "execution_count": 15,
     "metadata": {},
     "output_type": "execute_result"
    }
   ],
   "source": [
    "even(1), even(2)"
   ]
  },
  {
   "cell_type": "code",
   "execution_count": 16,
   "id": "f750e4c0",
   "metadata": {},
   "outputs": [],
   "source": [
    "for item in mylist: # remove ALL even items...\n",
    "    if even(item):\n",
    "        mylist.remove(item)"
   ]
  },
  {
   "cell_type": "code",
   "execution_count": 17,
   "id": "7db33116",
   "metadata": {},
   "outputs": [
    {
     "data": {
      "text/plain": [
       "[1, 2, 3]"
      ]
     },
     "execution_count": 17,
     "metadata": {},
     "output_type": "execute_result"
    }
   ],
   "source": [
    "mylist"
   ]
  },
  {
   "cell_type": "markdown",
   "id": "e40a735d",
   "metadata": {},
   "source": [
    "Note how we have 2 left!!! When you do this , the list shifts one space to the left and skips an iteration!"
   ]
  },
  {
   "cell_type": "markdown",
   "id": "0294ba8e",
   "metadata": {},
   "source": [
    "## To remove item from list while looping USE LIST SLICING AND A COPY OF THE LIST!!!\n",
    "https://www.geeksforgeeks.org/python-list-slicing/\n",
    "\n",
    "This way you can loop over a copy and modify the original"
   ]
  },
  {
   "cell_type": "code",
   "execution_count": 23,
   "id": "43229a7c",
   "metadata": {},
   "outputs": [
    {
     "data": {
      "text/plain": [
       "[1, 3]"
      ]
     },
     "execution_count": 23,
     "metadata": {},
     "output_type": "execute_result"
    }
   ],
   "source": [
    "mylist = [1,2,2,3,4]\n",
    "for item in mylist[:]: # remove ALL even items...\n",
    "    if even(item):\n",
    "        mylist.remove(item)\n",
    "mylist"
   ]
  },
  {
   "cell_type": "markdown",
   "id": "85292dd7",
   "metadata": {},
   "source": [
    "### Another way is to loop over the list with a list comprehension and if not"
   ]
  },
  {
   "cell_type": "code",
   "execution_count": 27,
   "id": "99fa854e",
   "metadata": {},
   "outputs": [
    {
     "data": {
      "text/plain": [
       "[1, 3]"
      ]
     },
     "execution_count": 27,
     "metadata": {},
     "output_type": "execute_result"
    }
   ],
   "source": [
    "mylist = [1,2,2,3,4]\n",
    "\n",
    "#[item for item in mylist if not even(item)] \n",
    "\n",
    "# modify list in place by again using the slice\n",
    "# this is a bit faster than asigning to the list\n",
    "# also see http://www.compciv.org/guides/python/fundamentals/lists-mutability/\n",
    "mylist[:] = [item for item in mylist if not even(item)] \n",
    "mylist"
   ]
  },
  {
   "cell_type": "code",
   "execution_count": 42,
   "id": "25651fa7",
   "metadata": {},
   "outputs": [],
   "source": [
    "mylist = [1,2,2,3,4]"
   ]
  },
  {
   "cell_type": "code",
   "execution_count": 43,
   "id": "fa4bce14",
   "metadata": {},
   "outputs": [
    {
     "name": "stdout",
     "output_type": "stream",
     "text": [
      "CPU times: user 5 µs, sys: 0 ns, total: 5 µs\n",
      "Wall time: 6.68 µs\n"
     ]
    }
   ],
   "source": [
    "%%time\n",
    "mylist = [item for item in mylist if not even(item)] "
   ]
  },
  {
   "cell_type": "code",
   "execution_count": 61,
   "id": "4298a578",
   "metadata": {},
   "outputs": [
    {
     "name": "stdout",
     "output_type": "stream",
     "text": [
      "45.5 ns ± 1.32 ns per loop (mean ± std. dev. of 7 runs, 10000000 loops each)\n"
     ]
    }
   ],
   "source": [
    "%%timeit\n",
    "mylist = [1,2,2,3,4]"
   ]
  },
  {
   "cell_type": "code",
   "execution_count": 72,
   "id": "c722fc75",
   "metadata": {},
   "outputs": [
    {
     "name": "stdout",
     "output_type": "stream",
     "text": [
      "640 ns ± 12.3 ns per loop (mean ± std. dev. of 7 runs, 1000000 loops each)\n"
     ]
    }
   ],
   "source": [
    "%%timeit\n",
    "mylist = [1,2,2,3,4]\n",
    "mylist = [item for item in mylist if not even(item)] "
   ]
  },
  {
   "cell_type": "code",
   "execution_count": 65,
   "id": "a6a560c1",
   "metadata": {},
   "outputs": [],
   "source": [
    "mylist = [1,2,2,3,4]\n"
   ]
  },
  {
   "cell_type": "code",
   "execution_count": 66,
   "id": "60b96cc2",
   "metadata": {},
   "outputs": [
    {
     "name": "stdout",
     "output_type": "stream",
     "text": [
      "CPU times: user 7 µs, sys: 0 ns, total: 7 µs\n",
      "Wall time: 8.58 µs\n"
     ]
    }
   ],
   "source": [
    "%%time\n",
    "mylist[:] = [item for item in mylist if not even(item)] \n"
   ]
  },
  {
   "cell_type": "code",
   "execution_count": 67,
   "id": "09d7c364",
   "metadata": {},
   "outputs": [],
   "source": [
    "mylist = [1,2,2,3,4]"
   ]
  },
  {
   "cell_type": "code",
   "execution_count": 70,
   "id": "4487f4b2",
   "metadata": {},
   "outputs": [
    {
     "name": "stdout",
     "output_type": "stream",
     "text": [
      "401 ns ± 22.4 ns per loop (mean ± std. dev. of 7 runs, 1000000 loops each)\n"
     ]
    }
   ],
   "source": [
    "%%timeit\n",
    "#mylist = [1,2,2,3,4] 688ns with 400ns without - also does not give you the references before assignment error\n",
    "mylist[:] = [item for item in mylist if not even(item)] \n"
   ]
  },
  {
   "cell_type": "markdown",
   "id": "c7398a5f",
   "metadata": {},
   "source": [
    "### finally we can filterfalse from  itertools!!!"
   ]
  },
  {
   "cell_type": "code",
   "execution_count": 76,
   "id": "caac8600",
   "metadata": {},
   "outputs": [
    {
     "data": {
      "text/plain": [
       "[1, 3]"
      ]
     },
     "execution_count": 76,
     "metadata": {},
     "output_type": "execute_result"
    }
   ],
   "source": [
    "mylist = [1,2,2,3,4]\n",
    "\n",
    "#no list comprehension\n",
    "from itertools import filterfalse\n",
    "mylist[:] = filterfalse(even, mylist)\n",
    "mylist"
   ]
  },
  {
   "cell_type": "code",
   "execution_count": 78,
   "id": "b39357dd",
   "metadata": {},
   "outputs": [
    {
     "name": "stdout",
     "output_type": "stream",
     "text": [
      "413 ns ± 5.92 ns per loop (mean ± std. dev. of 7 runs, 1000000 loops each)\n"
     ]
    }
   ],
   "source": [
    "%%timeit\n",
    "mylist[:] = filterfalse(even, mylist)\n",
    "mylist"
   ]
  },
  {
   "cell_type": "markdown",
   "id": "6c4abc88",
   "metadata": {},
   "source": [
    "## 2. What does if \"\\__name__ == \"\\__main__\\\" mean and do?\n",
    "\n",
    "It is a guard statement that prevents printing out instructions twice!!!\n",
    "\n",
    "There are two cases 1. running python foo.py and 2 import foo"
   ]
  },
  {
   "cell_type": "code",
   "execution_count": 81,
   "id": "b2cd29cf",
   "metadata": {},
   "outputs": [],
   "source": [
    "import foo_with_guard # this does not print the statement"
   ]
  },
  {
   "cell_type": "code",
   "execution_count": 83,
   "id": "b1ca6e04",
   "metadata": {},
   "outputs": [
    {
     "name": "stdout",
     "output_type": "stream",
     "text": [
      "Function from foo with guard\n"
     ]
    }
   ],
   "source": [
    "import foo_without_guard"
   ]
  },
  {
   "cell_type": "code",
   "execution_count": 82,
   "id": "e461bdd5",
   "metadata": {},
   "outputs": [
    {
     "name": "stdout",
     "output_type": "stream",
     "text": [
      "Running bar\n"
     ]
    }
   ],
   "source": [
    "%%bash\n",
    "python bar.py\n"
   ]
  },
  {
   "cell_type": "code",
   "execution_count": 84,
   "id": "4853bfed",
   "metadata": {},
   "outputs": [],
   "source": [
    "# see ow above we just run the bar.py and it only imports and does not execute the code in foo, BUT!"
   ]
  },
  {
   "cell_type": "code",
   "execution_count": 86,
   "id": "cf80efdd",
   "metadata": {},
   "outputs": [
    {
     "name": "stdout",
     "output_type": "stream",
     "text": [
      "Function from foo without guard\n",
      "Running bar\n"
     ]
    }
   ],
   "source": [
    "%%bash\n",
    "python bar_no_guard.py"
   ]
  },
  {
   "cell_type": "markdown",
   "id": "040b7b2d",
   "metadata": {},
   "source": [
    "in the above we forgot the guard in foo and when bar imports it imports and executes"
   ]
  },
  {
   "cell_type": "markdown",
   "id": "c20cf93a",
   "metadata": {},
   "source": [
    "## 3. How to check if a file or a directory exists"
   ]
  },
  {
   "cell_type": "code",
   "execution_count": 91,
   "id": "b739b81e",
   "metadata": {},
   "outputs": [
    {
     "name": "stdout",
     "output_type": "stream",
     "text": [
      "exists\n"
     ]
    }
   ],
   "source": [
    "#EAFP - Easier to ask for forgiveness than permission\n",
    "\n",
    "# simpy use a try except\n",
    "\n",
    "try:\n",
    "    f = open(\"foo_with_guard.py\")\n",
    "except FileNotFoundError:\n",
    "    print(\" does not exist\")\n",
    "else:\n",
    "    print(\"exists\")#exists"
   ]
  },
  {
   "cell_type": "markdown",
   "id": "f24dbe30",
   "metadata": {},
   "source": [
    "### another way is to use os.path and its different methods"
   ]
  },
  {
   "cell_type": "code",
   "execution_count": 103,
   "id": "4267a592",
   "metadata": {},
   "outputs": [
    {
     "name": "stdout",
     "output_type": "stream",
     "text": [
      "file is\n",
      "dir exists\n",
      "file exists\n"
     ]
    }
   ],
   "source": [
    "import os\n",
    "file_path = \"/home/zablocki/bitesize-ml/python_tips/foo_with_guard.py\"\n",
    "dir_path = \"/home/zablocki/bitesize-ml/python_tips\"\n",
    "if os.path.isfile(\"foo_with_guard.py\"):\n",
    "    # file exists\n",
    "    f = open(\"foo_with_guard.py\")\n",
    "    print('file is')\n",
    "    \n",
    "if os.path.isdir(dir_path):\n",
    "    # dir exists\n",
    "    print(\"dir exists\")\n",
    "    \n",
    "if os.path.exists(file_path):\n",
    "    # file or dir exists\n",
    "    print(\"file exists\")"
   ]
  },
  {
   "cell_type": "code",
   "execution_count": 112,
   "id": "ba4cbfcb",
   "metadata": {},
   "outputs": [
    {
     "name": "stdout",
     "output_type": "stream",
     "text": [
      "Y1\n",
      "Y2\n",
      "File exists\n"
     ]
    }
   ],
   "source": [
    "# for python 3.4+ use pathlip modeul and Path and more object oriented approach\n",
    "from pathlib import Path\n",
    "my_file = Path(\"/home/zablocki/bitesize-ml/python_tips/foo_with_guard.py\")\n",
    "my_dir = Path(\"/home/zablocki/bitesize-ml/python_tips\")\n",
    "if my_file.is_file():\n",
    "    print(\"Y1\")\n",
    "\n",
    "if my_dir.is_dir():\n",
    "    print(\"Y2\")\n",
    "    \n",
    "if my_file.exists():\n",
    "    print(\"File exists\")"
   ]
  },
  {
   "cell_type": "markdown",
   "id": "9c0c878b",
   "metadata": {},
   "source": [
    "## 4. how to find an index of a file in a list"
   ]
  },
  {
   "cell_type": "code",
   "execution_count": 113,
   "id": "2d7a76f5",
   "metadata": {},
   "outputs": [
    {
     "data": {
      "text/plain": [
       "['dog', 'cat', 'bird']"
      ]
     },
     "execution_count": 113,
     "metadata": {},
     "output_type": "execute_result"
    }
   ],
   "source": [
    "my_list = ['dog', 'cat', 'bird']\n",
    "my_list"
   ]
  },
  {
   "cell_type": "code",
   "execution_count": 115,
   "id": "e3429ff4",
   "metadata": {},
   "outputs": [
    {
     "data": {
      "text/plain": [
       "1"
      ]
     },
     "execution_count": 115,
     "metadata": {},
     "output_type": "execute_result"
    }
   ],
   "source": [
    "my_list.index('cat') # returns 0-based index of items in a list"
   ]
  },
  {
   "cell_type": "code",
   "execution_count": 116,
   "id": "6320d6c3",
   "metadata": {},
   "outputs": [
    {
     "ename": "ValueError",
     "evalue": "'candle' is not in list",
     "output_type": "error",
     "traceback": [
      "\u001b[0;31m---------------------------------------------------------------------------\u001b[0m",
      "\u001b[0;31mValueError\u001b[0m                                Traceback (most recent call last)",
      "\u001b[0;32m/tmp/ipykernel_27315/3843953274.py\u001b[0m in \u001b[0;36m<module>\u001b[0;34m\u001b[0m\n\u001b[1;32m      1\u001b[0m \u001b[0;31m# for thigns that do not exists you should wrap in a try and except block with a ValueError\u001b[0m\u001b[0;34m\u001b[0m\u001b[0;34m\u001b[0m\u001b[0;34m\u001b[0m\u001b[0m\n\u001b[0;32m----> 2\u001b[0;31m \u001b[0mmy_list\u001b[0m\u001b[0;34m.\u001b[0m\u001b[0mindex\u001b[0m\u001b[0;34m(\u001b[0m\u001b[0;34m'candle'\u001b[0m\u001b[0;34m)\u001b[0m\u001b[0;34m\u001b[0m\u001b[0;34m\u001b[0m\u001b[0m\n\u001b[0m",
      "\u001b[0;31mValueError\u001b[0m: 'candle' is not in list"
     ]
    }
   ],
   "source": [
    "# for thigns that do not exists you should wrap in a try and except block with a ValueError\n",
    "my_list.index('candle')"
   ]
  },
  {
   "cell_type": "code",
   "execution_count": 121,
   "id": "75609eb9",
   "metadata": {},
   "outputs": [
    {
     "name": "stdout",
     "output_type": "stream",
     "text": [
      "Index of 'orange' is -1\n"
     ]
    }
   ],
   "source": [
    "try:\n",
    "    idx = my_list.index('orange')\n",
    "except ValueError:\n",
    "    idx = -1 # set to -1 for failed funcs\n",
    "    \n",
    "print(f\"Index of 'orange' is {idx}\")"
   ]
  },
  {
   "cell_type": "markdown",
   "id": "d2fdc564",
   "metadata": {},
   "source": [
    "Note this returns the index of the first match ONLY! To get all indices need a list comprehension with enumerate"
   ]
  },
  {
   "cell_type": "code",
   "execution_count": 122,
   "id": "762504d9",
   "metadata": {},
   "outputs": [
    {
     "data": {
      "text/plain": [
       "['dog', 'dog', 'cat', 'bird']"
      ]
     },
     "execution_count": 122,
     "metadata": {},
     "output_type": "execute_result"
    }
   ],
   "source": [
    "my_list = ['dog','dog', 'cat', 'bird']\n",
    "my_list"
   ]
  },
  {
   "cell_type": "code",
   "execution_count": 127,
   "id": "5eb3ea13",
   "metadata": {},
   "outputs": [
    {
     "data": {
      "text/plain": [
       "[(0, 'dog'), (1, 'dog'), (2, 'cat'), (3, 'bird')]"
      ]
     },
     "execution_count": 127,
     "metadata": {},
     "output_type": "execute_result"
    }
   ],
   "source": [
    "[(idx,item) for idx,item  in enumerate(my_list)]"
   ]
  },
  {
   "cell_type": "code",
   "execution_count": 131,
   "id": "46856925",
   "metadata": {},
   "outputs": [
    {
     "data": {
      "text/plain": [
       "[0, 1]"
      ]
     },
     "execution_count": 131,
     "metadata": {},
     "output_type": "execute_result"
    }
   ],
   "source": [
    "[idx for idx,item  in enumerate(my_list) if item == 'dog']"
   ]
  },
  {
   "cell_type": "markdown",
   "id": "b64974e7",
   "metadata": {},
   "source": [
    "## 5 how to execute a program or a system command from python\n",
    "\n",
    "you can use the subprocess module to run a command\n",
    "\n",
    "subprocess is more powerful than os.system"
   ]
  },
  {
   "cell_type": "code",
   "execution_count": 132,
   "id": "019e2fb8",
   "metadata": {},
   "outputs": [],
   "source": [
    "import subprocess"
   ]
  },
  {
   "cell_type": "code",
   "execution_count": 134,
   "id": "ac1ea4b8",
   "metadata": {},
   "outputs": [
    {
     "name": "stdout",
     "output_type": "stream",
     "text": [
      "total 40\n",
      "-rw-rw-r-- 1 zablocki zablocki 18477 Dec 26 17:16 10_must_python_tips.ipynb\n",
      "-rw-rw-r-- 1 zablocki zablocki    78 Dec 18 20:22 bar_no_guard.py\n",
      "-rw-rw-r-- 1 zablocki zablocki    75 Dec 18 20:20 bar.py\n",
      "-rw-rw-r-- 1 zablocki zablocki   103 Dec 18 20:17 foo_with_guard.py\n",
      "-rw-rw-r-- 1 zablocki zablocki    74 Dec 18 20:21 foo_without_guard.py\n",
      "drwxrwxr-x 2 zablocki zablocki  4096 Dec 18 20:23 __pycache__\n"
     ]
    },
    {
     "data": {
      "text/plain": [
       "CompletedProcess(args=['ls', '-l'], returncode=0)"
      ]
     },
     "execution_count": 134,
     "metadata": {},
     "output_type": "execute_result"
    }
   ],
   "source": [
    "subprocess.run(['ls', '-l']) # \"ls -l\" command arg is a list of string not whole string"
   ]
  },
  {
   "cell_type": "code",
   "execution_count": 136,
   "id": "c4203b4a",
   "metadata": {},
   "outputs": [
    {
     "name": "stdout",
     "output_type": "stream",
     "text": [
      "total 40\n",
      "-rw-rw-r-- 1 zablocki zablocki 18477 Dec 26 17:16 10_must_python_tips.ipynb\n",
      "-rw-rw-r-- 1 zablocki zablocki    78 Dec 18 20:22 bar_no_guard.py\n",
      "-rw-rw-r-- 1 zablocki zablocki    75 Dec 18 20:20 bar.py\n",
      "-rw-rw-r-- 1 zablocki zablocki   103 Dec 18 20:17 foo_with_guard.py\n",
      "-rw-rw-r-- 1 zablocki zablocki    74 Dec 18 20:21 foo_without_guard.py\n",
      "drwxrwxr-x 2 zablocki zablocki  4096 Dec 18 20:23 __pycache__\n"
     ]
    },
    {
     "data": {
      "text/plain": [
       "0"
      ]
     },
     "execution_count": 136,
     "metadata": {},
     "output_type": "execute_result"
    }
   ],
   "source": [
    "# can also use os.system\n",
    "import os\n",
    "os.system(\"ls -l\")"
   ]
  },
  {
   "cell_type": "code",
   "execution_count": 137,
   "id": "b46688e2",
   "metadata": {},
   "outputs": [],
   "source": [
    "# finally to run / execute a child prog in a new process use \n",
    "\n",
    "#subprocess.Popen(\"/usr/bin/git\", \"commit\", \"-m\", \"Fixes a bug\")\n",
    "\n"
   ]
  },
  {
   "cell_type": "markdown",
   "id": "db9e2ac5",
   "metadata": {},
   "source": [
    "## 6. how to merge two dictionaries"
   ]
  },
  {
   "cell_type": "code",
   "execution_count": 148,
   "id": "90c4c093",
   "metadata": {},
   "outputs": [],
   "source": [
    "# .update - overwrites existing keys!!! modifies in place instead of creating a new one\n",
    "x = {'a' : 1, 'b' : 2}\n",
    "y = {'b' : 8, 'c' : 9}"
   ]
  },
  {
   "cell_type": "code",
   "execution_count": 141,
   "id": "c1419edf",
   "metadata": {},
   "outputs": [
    {
     "data": {
      "text/plain": [
       "{'a': 1, 'b': 2}"
      ]
     },
     "execution_count": 141,
     "metadata": {},
     "output_type": "execute_result"
    }
   ],
   "source": [
    "x"
   ]
  },
  {
   "cell_type": "code",
   "execution_count": 142,
   "id": "30b870e3",
   "metadata": {},
   "outputs": [],
   "source": [
    "x.update(y) # no return"
   ]
  },
  {
   "cell_type": "code",
   "execution_count": 143,
   "id": "0e6fbbbc",
   "metadata": {},
   "outputs": [
    {
     "data": {
      "text/plain": [
       "{'a': 1, 'b': 8, 'c': 9}"
      ]
     },
     "execution_count": 143,
     "metadata": {},
     "output_type": "execute_result"
    }
   ],
   "source": [
    "x"
   ]
  },
  {
   "cell_type": "code",
   "execution_count": 144,
   "id": "3c5433d2",
   "metadata": {},
   "outputs": [
    {
     "ename": "TypeError",
     "evalue": "unsupported operand type(s) for |: 'dict' and 'dict'",
     "output_type": "error",
     "traceback": [
      "\u001b[0;31m---------------------------------------------------------------------------\u001b[0m",
      "\u001b[0;31mTypeError\u001b[0m                                 Traceback (most recent call last)",
      "\u001b[0;32m/tmp/ipykernel_27315/3457097985.py\u001b[0m in \u001b[0;36m<module>\u001b[0;34m\u001b[0m\n\u001b[0;32m----> 1\u001b[0;31m \u001b[0mz\u001b[0m \u001b[0;34m=\u001b[0m \u001b[0mx\u001b[0m\u001b[0;34m|\u001b[0m \u001b[0my\u001b[0m\u001b[0;34m\u001b[0m\u001b[0;34m\u001b[0m\u001b[0m\n\u001b[0m",
      "\u001b[0;31mTypeError\u001b[0m: unsupported operand type(s) for |: 'dict' and 'dict'"
     ]
    }
   ],
   "source": [
    "z = x| y # this only works in pyton 3.9"
   ]
  },
  {
   "cell_type": "code",
   "execution_count": 149,
   "id": "c843f89a",
   "metadata": {},
   "outputs": [
    {
     "data": {
      "text/plain": [
       "{'a': 1, 'b': 8, 'c': 9}"
      ]
     },
     "execution_count": 149,
     "metadata": {},
     "output_type": "execute_result"
    }
   ],
   "source": [
    "# for python 3.5 + use dict unpacking!\n",
    "\n",
    "z = {**x, **y}\n",
    "z"
   ]
  },
  {
   "cell_type": "code",
   "execution_count": 150,
   "id": "34bcb1b5",
   "metadata": {},
   "outputs": [
    {
     "data": {
      "text/plain": [
       "{'a': 1, 'b': 8, 'c': 9}"
      ]
     },
     "execution_count": 150,
     "metadata": {},
     "output_type": "execute_result"
    }
   ],
   "source": [
    "# for older versions you have to use .copy()\n",
    "x = {'a' : 1, 'b' : 2}\n",
    "y = {'b' : 8, 'c' : 9}\n",
    "\n",
    "z = x.copy()\n",
    "z.update(y)\n",
    "z"
   ]
  },
  {
   "cell_type": "markdown",
   "id": "7e98d439",
   "metadata": {},
   "source": [
    "## 7. how to create a nested directory"
   ]
  },
  {
   "cell_type": "code",
   "execution_count": 152,
   "id": "99ab3b70",
   "metadata": {},
   "outputs": [],
   "source": [
    "# py 3.5+ use pathlibs mkdir with parents = True to create any needed dirs\n",
    "from pathlib import Path\n",
    "Path(\"./data/subdir\").mkdir(parents=True, exist_ok=True) # exception ignored if file already ignored"
   ]
  },
  {
   "cell_type": "code",
   "execution_count": 153,
   "id": "82a7b7df",
   "metadata": {},
   "outputs": [
    {
     "ename": "FileExistsError",
     "evalue": "[Errno 17] File exists: 'data/subdir'",
     "output_type": "error",
     "traceback": [
      "\u001b[0;31m---------------------------------------------------------------------------\u001b[0m",
      "\u001b[0;31mFileExistsError\u001b[0m                           Traceback (most recent call last)",
      "\u001b[0;32m/tmp/ipykernel_27315/3749355101.py\u001b[0m in \u001b[0;36m<module>\u001b[0;34m\u001b[0m\n\u001b[1;32m      1\u001b[0m \u001b[0;31m# py 3.5+ use pathlibs mkdir with parents = True to create any needed dirs\u001b[0m\u001b[0;34m\u001b[0m\u001b[0;34m\u001b[0m\u001b[0;34m\u001b[0m\u001b[0m\n\u001b[1;32m      2\u001b[0m \u001b[0;32mfrom\u001b[0m \u001b[0mpathlib\u001b[0m \u001b[0;32mimport\u001b[0m \u001b[0mPath\u001b[0m\u001b[0;34m\u001b[0m\u001b[0;34m\u001b[0m\u001b[0m\n\u001b[0;32m----> 3\u001b[0;31m \u001b[0mPath\u001b[0m\u001b[0;34m(\u001b[0m\u001b[0;34m\"./data/subdir\"\u001b[0m\u001b[0;34m)\u001b[0m\u001b[0;34m.\u001b[0m\u001b[0mmkdir\u001b[0m\u001b[0;34m(\u001b[0m\u001b[0mparents\u001b[0m\u001b[0;34m=\u001b[0m\u001b[0;32mTrue\u001b[0m\u001b[0;34m,\u001b[0m \u001b[0mexist_ok\u001b[0m\u001b[0;34m=\u001b[0m\u001b[0;32mFalse\u001b[0m\u001b[0;34m)\u001b[0m \u001b[0;31m# exception ignored if file already ignored\u001b[0m\u001b[0;34m\u001b[0m\u001b[0;34m\u001b[0m\u001b[0m\n\u001b[0m",
      "\u001b[0;32m~/anaconda3/lib/python3.7/pathlib.py\u001b[0m in \u001b[0;36mmkdir\u001b[0;34m(self, mode, parents, exist_ok)\u001b[0m\n\u001b[1;32m   1271\u001b[0m             \u001b[0mself\u001b[0m\u001b[0;34m.\u001b[0m\u001b[0m_raise_closed\u001b[0m\u001b[0;34m(\u001b[0m\u001b[0;34m)\u001b[0m\u001b[0;34m\u001b[0m\u001b[0;34m\u001b[0m\u001b[0m\n\u001b[1;32m   1272\u001b[0m         \u001b[0;32mtry\u001b[0m\u001b[0;34m:\u001b[0m\u001b[0;34m\u001b[0m\u001b[0;34m\u001b[0m\u001b[0m\n\u001b[0;32m-> 1273\u001b[0;31m             \u001b[0mself\u001b[0m\u001b[0;34m.\u001b[0m\u001b[0m_accessor\u001b[0m\u001b[0;34m.\u001b[0m\u001b[0mmkdir\u001b[0m\u001b[0;34m(\u001b[0m\u001b[0mself\u001b[0m\u001b[0;34m,\u001b[0m \u001b[0mmode\u001b[0m\u001b[0;34m)\u001b[0m\u001b[0;34m\u001b[0m\u001b[0;34m\u001b[0m\u001b[0m\n\u001b[0m\u001b[1;32m   1274\u001b[0m         \u001b[0;32mexcept\u001b[0m \u001b[0mFileNotFoundError\u001b[0m\u001b[0;34m:\u001b[0m\u001b[0;34m\u001b[0m\u001b[0;34m\u001b[0m\u001b[0m\n\u001b[1;32m   1275\u001b[0m             \u001b[0;32mif\u001b[0m \u001b[0;32mnot\u001b[0m \u001b[0mparents\u001b[0m \u001b[0;32mor\u001b[0m \u001b[0mself\u001b[0m\u001b[0;34m.\u001b[0m\u001b[0mparent\u001b[0m \u001b[0;34m==\u001b[0m \u001b[0mself\u001b[0m\u001b[0;34m:\u001b[0m\u001b[0;34m\u001b[0m\u001b[0;34m\u001b[0m\u001b[0m\n",
      "\u001b[0;31mFileExistsError\u001b[0m: [Errno 17] File exists: 'data/subdir'"
     ]
    }
   ],
   "source": [
    "# py 3.5+ use pathlibs mkdir with parents = True to create any needed dirs\n",
    "from pathlib import Path\n",
    "Path(\"./data/subdir\").mkdir(parents=True, exist_ok=False) # exception ignored if file already ignored"
   ]
  },
  {
   "cell_type": "code",
   "execution_count": 154,
   "id": "e651619e",
   "metadata": {},
   "outputs": [],
   "source": [
    "# for older versions you can use os.path.exists and os.makedirs\n",
    "import os\n",
    "if not os.path.exists(\"./data2/subdir2\"):\n",
    "    os.makedirs(\"./data2/subdir2\")"
   ]
  },
  {
   "cell_type": "markdown",
   "id": "42415433",
   "metadata": {},
   "source": [
    "## 8 what is the difference between classmethod and staticmethod"
   ]
  },
  {
   "cell_type": "code",
   "execution_count": 157,
   "id": "b4612615",
   "metadata": {},
   "outputs": [],
   "source": [
    "class SoftwareEngineer():\n",
    "    alias = 'Keyboard Magician'\n",
    "    \n",
    "    @classmethod\n",
    "    def class_code(cls, language):\n",
    "        print(f\"class methods, {cls.alias} codes in {language}\")\n",
    "        \n",
    "    @staticmethod\n",
    "    def static_code(language):\n",
    "        print(f\"static method, codes in {language}\")\n",
    "        \n",
    "        \n",
    "        "
   ]
  },
  {
   "cell_type": "code",
   "execution_count": 158,
   "id": "9ad024e1",
   "metadata": {},
   "outputs": [],
   "source": [
    "se = SoftwareEngineer()"
   ]
  },
  {
   "cell_type": "code",
   "execution_count": 159,
   "id": "fd64c36f",
   "metadata": {},
   "outputs": [
    {
     "name": "stdout",
     "output_type": "stream",
     "text": [
      "class methods, Keyboard Magician codes in Python\n"
     ]
    }
   ],
   "source": [
    "# call class method on the instance\n",
    "se.class_code(\"Python\")"
   ]
  },
  {
   "cell_type": "code",
   "execution_count": 160,
   "id": "6f53fcfd",
   "metadata": {},
   "outputs": [
    {
     "name": "stdout",
     "output_type": "stream",
     "text": [
      "class methods, Keyboard Magician codes in Python\n"
     ]
    }
   ],
   "source": [
    "# can also do this on the class itself\n",
    "SoftwareEngineer.class_code(\"Python\")"
   ]
  },
  {
   "cell_type": "code",
   "execution_count": 161,
   "id": "08e26a28",
   "metadata": {},
   "outputs": [
    {
     "name": "stdout",
     "output_type": "stream",
     "text": [
      "static method, codes in Python\n"
     ]
    }
   ],
   "source": [
    "# same is true for the static method we can call it on the instance or the class\n",
    "se.static_code('Python')"
   ]
  },
  {
   "cell_type": "markdown",
   "id": "75a72fdb",
   "metadata": {},
   "source": [
    "so we do not even need to create an instance for those two methods. just like in instance methods with the elf arguments, for this classmethod, when we call the function we do not pass the cls argument, since we have the arg in the class method we know about class variables!\n",
    "\n",
    "so we can access cls.alias. on the other hand in the static class method, we have not info about self not the class -> use a global function \n",
    "\n",
    "    def gloabl_code(language):\n",
    "        print(f\"global function, codes in {language}\")\n",
    "        \n",
    "so why use a static method at all? you could just use a global method but sometimes static methods belong in the class\n",
    "\n",
    "this way you know when you call the func you have to invoke the class - this is known as namespace.\n",
    "\n",
    "A namespace is a declarative region that provides a scope to the identifiers (the names of types, functions, variables, etc) inside it. Namespaces are used to organize code into logical groups and to prevent name collisions that can occur especially when your code base includes multiple libraries."
   ]
  },
  {
   "cell_type": "markdown",
   "id": "7601a885",
   "metadata": {},
   "source": [
    "## 9. what is the difference between \\__str\\__ and \\__repr\\__\n",
    "both are methods that return strings\n",
    "known as \"D under methods\", good practice to implement ourselves when creating a custom class, but what is the differnce. for built in classes these are already implemented."
   ]
  },
  {
   "cell_type": "code",
   "execution_count": 13,
   "id": "3fec37fa",
   "metadata": {},
   "outputs": [],
   "source": [
    "class SoftwareEngineer:\n",
    "    def __init__(self, name):\n",
    "        self.name = name\n",
    "        \n",
    "    def __repr__(self):\n",
    "        return \"%s.%s(name=%s)\" % (self.__class__.__module__,\n",
    "                                   self.__class__.__qualname__,\n",
    "                                   self.name)\n",
    "    def __str__(self) -> str:\n",
    "        return \"Software Engineer names %s\" % (self.name)"
   ]
  },
  {
   "cell_type": "code",
   "execution_count": 14,
   "id": "9d26d46b",
   "metadata": {},
   "outputs": [],
   "source": [
    "se = SoftwareEngineer('Alan')"
   ]
  },
  {
   "cell_type": "code",
   "execution_count": 15,
   "id": "3e7fff56",
   "metadata": {},
   "outputs": [
    {
     "name": "stdout",
     "output_type": "stream",
     "text": [
      "__main__.SoftwareEngineer(name=Alan)\n"
     ]
    }
   ],
   "source": [
    "print(repr(se)) # repr is the official str representation and  unambigous , repr is fallback if str is missing"
   ]
  },
  {
   "cell_type": "code",
   "execution_count": 16,
   "id": "bffa457e",
   "metadata": {},
   "outputs": [
    {
     "name": "stdout",
     "output_type": "stream",
     "text": [
      "Software Engineer names Alan\n"
     ]
    }
   ],
   "source": [
    "print(str(se)) # informal str repres and human readable"
   ]
  },
  {
   "cell_type": "code",
   "execution_count": 17,
   "id": "760307cd",
   "metadata": {},
   "outputs": [
    {
     "name": "stdout",
     "output_type": "stream",
     "text": [
      "Software Engineer names Alan\n"
     ]
    }
   ],
   "source": [
    "print(se) # calling print uses str"
   ]
  },
  {
   "cell_type": "code",
   "execution_count": 19,
   "id": "94a0086e",
   "metadata": {},
   "outputs": [],
   "source": [
    "class SoftwareEngineer:\n",
    "    def __init__(self, name):\n",
    "        self.name = name\n",
    "        \n",
    "    def __repr__(self):\n",
    "        return \"%s.%s(name=%s)\" % (self.__class__.__module__,\n",
    "                                   self.__class__.__qualname__,\n",
    "                                   self.name)\n",
    "    #def __str__(self) -> str:\n",
    "    #    return \"Software Engineer names %s\" % (self.name)"
   ]
  },
  {
   "cell_type": "code",
   "execution_count": 20,
   "id": "3fe17f09",
   "metadata": {},
   "outputs": [
    {
     "name": "stdout",
     "output_type": "stream",
     "text": [
      "__main__.SoftwareEngineer(name=Alan)\n",
      "__main__.SoftwareEngineer(name=Alan)\n",
      "__main__.SoftwareEngineer(name=Alan)\n"
     ]
    }
   ],
   "source": [
    "se = SoftwareEngineer('Alan')\n",
    "print(repr(se)) # repr is the official str representation and  unambigous , repr is fallback if str is missing\n",
    "print(str(se)) # informal str repres and human readable\n",
    "print(se) # calling print uses str"
   ]
  },
  {
   "cell_type": "code",
   "execution_count": null,
   "id": "27f1414a",
   "metadata": {},
   "outputs": [],
   "source": [
    "# repr is for developers and str is for customers"
   ]
  },
  {
   "cell_type": "markdown",
   "id": "7681c0fe",
   "metadata": {},
   "source": [
    "A nice example of this is the datetime object in how it appears to use when we print!!!"
   ]
  },
  {
   "cell_type": "code",
   "execution_count": 22,
   "id": "8e4c6f7b",
   "metadata": {},
   "outputs": [
    {
     "data": {
      "text/plain": [
       "datetime.datetime(2021, 12, 26, 19, 47, 58, 274914)"
      ]
     },
     "execution_count": 22,
     "metadata": {},
     "output_type": "execute_result"
    }
   ],
   "source": [
    "import datetime\n",
    "\n",
    "today = datetime.datetime.now()\n",
    "today"
   ]
  },
  {
   "cell_type": "code",
   "execution_count": 23,
   "id": "4ada615f",
   "metadata": {},
   "outputs": [
    {
     "name": "stdout",
     "output_type": "stream",
     "text": [
      "2021-12-26 19:47:58.274914\n"
     ]
    }
   ],
   "source": [
    "print(today)"
   ]
  },
  {
   "cell_type": "code",
   "execution_count": 24,
   "id": "bd41e4be",
   "metadata": {},
   "outputs": [
    {
     "name": "stdout",
     "output_type": "stream",
     "text": [
      "datetime.datetime(2021, 12, 26, 19, 47, 58, 274914)\n"
     ]
    }
   ],
   "source": [
    "print(repr(today))"
   ]
  },
  {
   "cell_type": "markdown",
   "id": "91fe6268",
   "metadata": {},
   "source": [
    "# 10. how to concatenate two lists"
   ]
  },
  {
   "cell_type": "code",
   "execution_count": 26,
   "id": "1dd311a0",
   "metadata": {},
   "outputs": [],
   "source": [
    "a = [1,2]\n",
    "b = [3,4]\n",
    "\n",
    "c = a+b\n"
   ]
  },
  {
   "cell_type": "code",
   "execution_count": 27,
   "id": "ed505a66",
   "metadata": {},
   "outputs": [
    {
     "data": {
      "text/plain": [
       "[1, 2, 3, 4]"
      ]
     },
     "execution_count": 27,
     "metadata": {},
     "output_type": "execute_result"
    }
   ],
   "source": [
    "c"
   ]
  },
  {
   "cell_type": "code",
   "execution_count": 29,
   "id": "0e86d5bd",
   "metadata": {},
   "outputs": [],
   "source": [
    "# since py 3.5 we can use - general way to unpack and combine\n",
    "d = [*a, *b]"
   ]
  },
  {
   "cell_type": "code",
   "execution_count": 30,
   "id": "1b7a6387",
   "metadata": {},
   "outputs": [
    {
     "data": {
      "text/plain": [
       "[1, 2, 3, 4]"
      ]
     },
     "execution_count": 30,
     "metadata": {},
     "output_type": "execute_result"
    }
   ],
   "source": [
    "d"
   ]
  },
  {
   "cell_type": "code",
   "execution_count": 31,
   "id": "2cbb1b03",
   "metadata": {},
   "outputs": [
    {
     "ename": "TypeError",
     "evalue": "can only concatenate list (not \"tuple\") to list",
     "output_type": "error",
     "traceback": [
      "\u001b[0;31m---------------------------------------------------------------------------\u001b[0m",
      "\u001b[0;31mTypeError\u001b[0m                                 Traceback (most recent call last)",
      "\u001b[0;32m/tmp/ipykernel_11359/3043196465.py\u001b[0m in \u001b[0;36m<module>\u001b[0;34m\u001b[0m\n\u001b[1;32m      3\u001b[0m \u001b[0mb\u001b[0m \u001b[0;34m=\u001b[0m \u001b[0;34m(\u001b[0m\u001b[0;36m3\u001b[0m\u001b[0;34m,\u001b[0m\u001b[0;36m4\u001b[0m\u001b[0;34m)\u001b[0m\u001b[0;34m\u001b[0m\u001b[0;34m\u001b[0m\u001b[0m\n\u001b[1;32m      4\u001b[0m \u001b[0;34m\u001b[0m\u001b[0m\n\u001b[0;32m----> 5\u001b[0;31m \u001b[0mc\u001b[0m \u001b[0;34m=\u001b[0m \u001b[0ma\u001b[0m\u001b[0;34m+\u001b[0m\u001b[0mb\u001b[0m\u001b[0;34m\u001b[0m\u001b[0;34m\u001b[0m\u001b[0m\n\u001b[0m",
      "\u001b[0;31mTypeError\u001b[0m: can only concatenate list (not \"tuple\") to list"
     ]
    }
   ],
   "source": [
    "# one nice way to show how unpacking is superior is to switch b to be a tuple\n",
    "a = [1,2]\n",
    "b = (3,4)\n",
    "\n",
    "c = a+b"
   ]
  },
  {
   "cell_type": "code",
   "execution_count": 32,
   "id": "b16d5dbf",
   "metadata": {},
   "outputs": [],
   "source": [
    "# with the unpakcing method however\n",
    "d = [*a, *b]"
   ]
  },
  {
   "cell_type": "code",
   "execution_count": 33,
   "id": "5d188f11",
   "metadata": {},
   "outputs": [
    {
     "data": {
      "text/plain": [
       "[1, 2, 3, 4]"
      ]
     },
     "execution_count": 33,
     "metadata": {},
     "output_type": "execute_result"
    }
   ],
   "source": [
    "d"
   ]
  },
  {
   "cell_type": "markdown",
   "id": "7bcd01b2",
   "metadata": {},
   "source": [
    "Both ways create a shallow copy!!! one level deep only"
   ]
  },
  {
   "cell_type": "code",
   "execution_count": 37,
   "id": "b04e646f",
   "metadata": {},
   "outputs": [
    {
     "data": {
      "text/plain": [
       "[[1, 2], [3, 4], [5, 6], [7, 8]]"
      ]
     },
     "execution_count": 37,
     "metadata": {},
     "output_type": "execute_result"
    }
   ],
   "source": [
    "# if we go to level 2 or deeper you will see a difference\n",
    "a = [[1,2], [3,4]]\n",
    "b = [[5,6], [7,8]]\n",
    "\n",
    "c = a+b\n",
    "c"
   ]
  },
  {
   "cell_type": "code",
   "execution_count": 38,
   "id": "f430c0d6",
   "metadata": {},
   "outputs": [
    {
     "data": {
      "text/plain": [
       "[[99, 2], [3, 4], [5, 6], [7, 8]]"
      ]
     },
     "execution_count": 38,
     "metadata": {},
     "output_type": "execute_result"
    }
   ],
   "source": [
    "a[0][0] = 99\n",
    "c"
   ]
  },
  {
   "cell_type": "code",
   "execution_count": null,
   "id": "98780e84",
   "metadata": {},
   "outputs": [],
   "source": [
    "notice how c has the same modification # shallow vs deep copying"
   ]
  }
 ],
 "metadata": {
  "kernelspec": {
   "display_name": "Python 3 (ipykernel)",
   "language": "python",
   "name": "python3"
  },
  "language_info": {
   "codemirror_mode": {
    "name": "ipython",
    "version": 3
   },
   "file_extension": ".py",
   "mimetype": "text/x-python",
   "name": "python",
   "nbconvert_exporter": "python",
   "pygments_lexer": "ipython3",
   "version": "3.7.11"
  }
 },
 "nbformat": 4,
 "nbformat_minor": 5
}
