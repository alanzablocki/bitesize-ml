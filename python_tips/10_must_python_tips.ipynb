{
 "cells": [
  {
   "cell_type": "markdown",
   "id": "55d63bc7",
   "metadata": {},
   "source": [
    "# 10 Python Basics you should know\n",
    "Source: Python Engineer"
   ]
  },
  {
   "cell_type": "markdown",
   "id": "cd9a69fc",
   "metadata": {},
   "source": [
    "## 1.How to remove elements from a list while looping"
   ]
  },
  {
   "cell_type": "code",
   "execution_count": 19,
   "id": "f32f1674",
   "metadata": {},
   "outputs": [],
   "source": [
    "# lets create a simple list\n",
    "mylist = [1,2,2,3,4]\n",
    "\n"
   ]
  },
  {
   "cell_type": "markdown",
   "id": "752cc02d",
   "metadata": {},
   "source": [
    "**Never loop over a list and remove elements at the same time**"
   ]
  },
  {
   "cell_type": "code",
   "execution_count": 14,
   "id": "dd5df60d",
   "metadata": {},
   "outputs": [],
   "source": [
    "# helper function\n",
    "\n",
    "def even(x):\n",
    "    return x % 2 == 0"
   ]
  },
  {
   "cell_type": "code",
   "execution_count": 15,
   "id": "fb884e1d",
   "metadata": {},
   "outputs": [
    {
     "data": {
      "text/plain": [
       "(False, True)"
      ]
     },
     "execution_count": 15,
     "metadata": {},
     "output_type": "execute_result"
    }
   ],
   "source": [
    "even(1), even(2)"
   ]
  },
  {
   "cell_type": "code",
   "execution_count": 16,
   "id": "59d8dd75",
   "metadata": {},
   "outputs": [],
   "source": [
    "for item in mylist: # remove ALL even items...\n",
    "    if even(item):\n",
    "        mylist.remove(item)"
   ]
  },
  {
   "cell_type": "code",
   "execution_count": 17,
   "id": "7180cda1",
   "metadata": {},
   "outputs": [
    {
     "data": {
      "text/plain": [
       "[1, 2, 3]"
      ]
     },
     "execution_count": 17,
     "metadata": {},
     "output_type": "execute_result"
    }
   ],
   "source": [
    "mylist"
   ]
  },
  {
   "cell_type": "markdown",
   "id": "e916c139",
   "metadata": {},
   "source": [
    "Note how we have 2 left!!! When you do this , the list shifts one space to the left and skips an iteration!"
   ]
  },
  {
   "cell_type": "markdown",
   "id": "3eb61d80",
   "metadata": {},
   "source": [
    "## To remove item from list while looping USE LIST SLICING AND A COPY OF THE LIST!!!\n",
    "https://www.geeksforgeeks.org/python-list-slicing/\n",
    "\n",
    "This way you can loop over a copy and modify the original"
   ]
  },
  {
   "cell_type": "code",
   "execution_count": 23,
   "id": "983a7836",
   "metadata": {},
   "outputs": [
    {
     "data": {
      "text/plain": [
       "[1, 3]"
      ]
     },
     "execution_count": 23,
     "metadata": {},
     "output_type": "execute_result"
    }
   ],
   "source": [
    "mylist = [1,2,2,3,4]\n",
    "for item in mylist[:]: # remove ALL even items...\n",
    "    if even(item):\n",
    "        mylist.remove(item)\n",
    "mylist"
   ]
  },
  {
   "cell_type": "markdown",
   "id": "476ddeca",
   "metadata": {},
   "source": [
    "### Another way is to loop over the list with a list comprehension and if not"
   ]
  },
  {
   "cell_type": "code",
   "execution_count": 27,
   "id": "a499ceb7",
   "metadata": {},
   "outputs": [
    {
     "data": {
      "text/plain": [
       "[1, 3]"
      ]
     },
     "execution_count": 27,
     "metadata": {},
     "output_type": "execute_result"
    }
   ],
   "source": [
    "mylist = [1,2,2,3,4]\n",
    "\n",
    "#[item for item in mylist if not even(item)] \n",
    "\n",
    "# modify list in place by again using the slice\n",
    "# this is a bit faster than asigning to the list\n",
    "# also see http://www.compciv.org/guides/python/fundamentals/lists-mutability/\n",
    "mylist[:] = [item for item in mylist if not even(item)] \n",
    "mylist"
   ]
  },
  {
   "cell_type": "code",
   "execution_count": 42,
   "id": "1efec73d",
   "metadata": {},
   "outputs": [],
   "source": [
    "mylist = [1,2,2,3,4]"
   ]
  },
  {
   "cell_type": "code",
   "execution_count": 43,
   "id": "0f264ff2",
   "metadata": {},
   "outputs": [
    {
     "name": "stdout",
     "output_type": "stream",
     "text": [
      "CPU times: user 5 µs, sys: 0 ns, total: 5 µs\n",
      "Wall time: 6.68 µs\n"
     ]
    }
   ],
   "source": [
    "%%time\n",
    "mylist = [item for item in mylist if not even(item)] "
   ]
  },
  {
   "cell_type": "code",
   "execution_count": 61,
   "id": "99067b1f",
   "metadata": {},
   "outputs": [
    {
     "name": "stdout",
     "output_type": "stream",
     "text": [
      "45.5 ns ± 1.32 ns per loop (mean ± std. dev. of 7 runs, 10000000 loops each)\n"
     ]
    }
   ],
   "source": [
    "%%timeit\n",
    "mylist = [1,2,2,3,4]"
   ]
  },
  {
   "cell_type": "code",
   "execution_count": 72,
   "id": "30b2a663",
   "metadata": {},
   "outputs": [
    {
     "name": "stdout",
     "output_type": "stream",
     "text": [
      "640 ns ± 12.3 ns per loop (mean ± std. dev. of 7 runs, 1000000 loops each)\n"
     ]
    }
   ],
   "source": [
    "%%timeit\n",
    "mylist = [1,2,2,3,4]\n",
    "mylist = [item for item in mylist if not even(item)] "
   ]
  },
  {
   "cell_type": "code",
   "execution_count": 65,
   "id": "e1e286ca",
   "metadata": {},
   "outputs": [],
   "source": [
    "mylist = [1,2,2,3,4]\n"
   ]
  },
  {
   "cell_type": "code",
   "execution_count": 66,
   "id": "b92b9cae",
   "metadata": {},
   "outputs": [
    {
     "name": "stdout",
     "output_type": "stream",
     "text": [
      "CPU times: user 7 µs, sys: 0 ns, total: 7 µs\n",
      "Wall time: 8.58 µs\n"
     ]
    }
   ],
   "source": [
    "%%time\n",
    "mylist[:] = [item for item in mylist if not even(item)] \n"
   ]
  },
  {
   "cell_type": "code",
   "execution_count": 67,
   "id": "ece97a68",
   "metadata": {},
   "outputs": [],
   "source": [
    "mylist = [1,2,2,3,4]"
   ]
  },
  {
   "cell_type": "code",
   "execution_count": 70,
   "id": "7a58efa4",
   "metadata": {},
   "outputs": [
    {
     "name": "stdout",
     "output_type": "stream",
     "text": [
      "401 ns ± 22.4 ns per loop (mean ± std. dev. of 7 runs, 1000000 loops each)\n"
     ]
    }
   ],
   "source": [
    "%%timeit\n",
    "#mylist = [1,2,2,3,4] 688ns with 400ns without - also does not give you the references before assignment error\n",
    "mylist[:] = [item for item in mylist if not even(item)] \n"
   ]
  },
  {
   "cell_type": "markdown",
   "id": "939dfc8a",
   "metadata": {},
   "source": [
    "### finally we can filterfalse from  itertools!!!"
   ]
  },
  {
   "cell_type": "code",
   "execution_count": 76,
   "id": "05478299",
   "metadata": {},
   "outputs": [
    {
     "data": {
      "text/plain": [
       "[1, 3]"
      ]
     },
     "execution_count": 76,
     "metadata": {},
     "output_type": "execute_result"
    }
   ],
   "source": [
    "mylist = [1,2,2,3,4]\n",
    "\n",
    "#no list comprehension\n",
    "from itertools import filterfalse\n",
    "mylist[:] = filterfalse(even, mylist)\n",
    "mylist"
   ]
  },
  {
   "cell_type": "code",
   "execution_count": 78,
   "id": "d54bb50a",
   "metadata": {},
   "outputs": [
    {
     "name": "stdout",
     "output_type": "stream",
     "text": [
      "413 ns ± 5.92 ns per loop (mean ± std. dev. of 7 runs, 1000000 loops each)\n"
     ]
    }
   ],
   "source": [
    "%%timeit\n",
    "mylist[:] = filterfalse(even, mylist)\n",
    "mylist"
   ]
  },
  {
   "cell_type": "markdown",
   "id": "c34bf243",
   "metadata": {},
   "source": [
    "## 2. What does if \"\\__name__ == \"\\__main__\\\" mean and do?\n",
    "\n",
    "It is a guard statement that prevents printing out instructions twice!!!\n",
    "\n",
    "There are two cases 1. running python foo.py and 2 import foo"
   ]
  },
  {
   "cell_type": "code",
   "execution_count": 81,
   "id": "f1d06546",
   "metadata": {},
   "outputs": [],
   "source": [
    "import foo_with_guard # this does not print the statement"
   ]
  },
  {
   "cell_type": "code",
   "execution_count": 83,
   "id": "bbecd0fe",
   "metadata": {},
   "outputs": [
    {
     "name": "stdout",
     "output_type": "stream",
     "text": [
      "Function from foo with guard\n"
     ]
    }
   ],
   "source": [
    "import foo_without_guard"
   ]
  },
  {
   "cell_type": "code",
   "execution_count": 82,
   "id": "68a540ad",
   "metadata": {},
   "outputs": [
    {
     "name": "stdout",
     "output_type": "stream",
     "text": [
      "Running bar\n"
     ]
    }
   ],
   "source": [
    "%%bash\n",
    "python bar.py\n"
   ]
  },
  {
   "cell_type": "code",
   "execution_count": 84,
   "id": "5d956467",
   "metadata": {},
   "outputs": [],
   "source": [
    "# see ow above we just run the bar.py and it only imports and does not execute the code in foo, BUT!"
   ]
  },
  {
   "cell_type": "code",
   "execution_count": 86,
   "id": "05c682aa",
   "metadata": {},
   "outputs": [
    {
     "name": "stdout",
     "output_type": "stream",
     "text": [
      "Function from foo without guard\n",
      "Running bar\n"
     ]
    }
   ],
   "source": [
    "%%bash\n",
    "python bar_no_guard.py"
   ]
  },
  {
   "cell_type": "markdown",
   "id": "6cfded7a",
   "metadata": {},
   "source": [
    "in the above we forgot the guard in foo and when bar imports it imports and executes"
   ]
  },
  {
   "cell_type": "markdown",
   "id": "d1d7217f",
   "metadata": {},
   "source": [
    "## 3. How to check if a file or a directory exists"
   ]
  },
  {
   "cell_type": "code",
   "execution_count": 91,
   "id": "52109c66",
   "metadata": {},
   "outputs": [
    {
     "name": "stdout",
     "output_type": "stream",
     "text": [
      "exists\n"
     ]
    }
   ],
   "source": [
    "#EAFP - Easier to ask for forgiveness than permission\n",
    "\n",
    "# simpy use a try except\n",
    "\n",
    "try:\n",
    "    f = open(\"foo_with_guard.py\")\n",
    "except FileNotFoundError:\n",
    "    print(\" does not exist\")\n",
    "else:\n",
    "    print(\"exists\")#exists"
   ]
  },
  {
   "cell_type": "markdown",
   "id": "0d182754",
   "metadata": {},
   "source": [
    "### another way is to use os.path and its different methods"
   ]
  },
  {
   "cell_type": "code",
   "execution_count": 103,
   "id": "b93e3187",
   "metadata": {},
   "outputs": [
    {
     "name": "stdout",
     "output_type": "stream",
     "text": [
      "file is\n",
      "dir exists\n",
      "file exists\n"
     ]
    }
   ],
   "source": [
    "import os\n",
    "file_path = \"/home/zablocki/bitesize-ml/python_tips/foo_with_guard.py\"\n",
    "dir_path = \"/home/zablocki/bitesize-ml/python_tips\"\n",
    "if os.path.isfile(\"foo_with_guard.py\"):\n",
    "    # file exists\n",
    "    f = open(\"foo_with_guard.py\")\n",
    "    print('file is')\n",
    "    \n",
    "if os.path.isdir(dir_path):\n",
    "    # dir exists\n",
    "    print(\"dir exists\")\n",
    "    \n",
    "if os.path.exists(file_path):\n",
    "    # file or dir exists\n",
    "    print(\"file exists\")"
   ]
  },
  {
   "cell_type": "code",
   "execution_count": 112,
   "id": "7213d2ba",
   "metadata": {},
   "outputs": [
    {
     "name": "stdout",
     "output_type": "stream",
     "text": [
      "Y1\n",
      "Y2\n",
      "File exists\n"
     ]
    }
   ],
   "source": [
    "# for python 3.4+ use pathlip modeul and Path and more object oriented approach\n",
    "from pathlib import Path\n",
    "my_file = Path(\"/home/zablocki/bitesize-ml/python_tips/foo_with_guard.py\")\n",
    "my_dir = Path(\"/home/zablocki/bitesize-ml/python_tips\")\n",
    "if my_file.is_file():\n",
    "    print(\"Y1\")\n",
    "\n",
    "if my_dir.is_dir():\n",
    "    print(\"Y2\")\n",
    "    \n",
    "if my_file.exists():\n",
    "    print(\"File exists\")"
   ]
  },
  {
   "cell_type": "markdown",
   "id": "d3e9a78e",
   "metadata": {},
   "source": [
    "## how to find an index of a file in a list"
   ]
  }
 ],
 "metadata": {
  "kernelspec": {
   "display_name": "Python 3 (ipykernel)",
   "language": "python",
   "name": "python3"
  },
  "language_info": {
   "codemirror_mode": {
    "name": "ipython",
    "version": 3
   },
   "file_extension": ".py",
   "mimetype": "text/x-python",
   "name": "python",
   "nbconvert_exporter": "python",
   "pygments_lexer": "ipython3",
   "version": "3.7.11"
  }
 },
 "nbformat": 4,
 "nbformat_minor": 5
}
