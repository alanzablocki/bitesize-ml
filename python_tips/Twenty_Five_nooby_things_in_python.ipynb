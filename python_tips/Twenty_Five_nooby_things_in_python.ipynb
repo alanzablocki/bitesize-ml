{
 "cells": [
  {
   "cell_type": "markdown",
   "id": "af2892a0",
   "metadata": {},
   "source": [
    "## Things noobs do in python ( and probably me!)\n",
    "\n",
    "Source: mCoding https://www.youtube.com/watch?v=qUeud6DvOWI\n"
   ]
  },
  {
   "cell_type": "markdown",
   "id": "adbbf4c8",
   "metadata": {},
   "source": [
    "### 1.  Manual string formatting\n",
    "\n",
    "Dont use the plus sign, use f strings!"
   ]
  },
  {
   "cell_type": "code",
   "execution_count": 1,
   "id": "0f88279a",
   "metadata": {},
   "outputs": [
    {
     "name": "stdout",
     "output_type": "stream",
     "text": [
      "I have 10 apples\n"
     ]
    }
   ],
   "source": [
    "a = 10\n",
    "item = \"apples\"\n",
    "print (\"I have \" + str(a) + \" \" + item)"
   ]
  },
  {
   "cell_type": "code",
   "execution_count": 2,
   "id": "20195499",
   "metadata": {},
   "outputs": [
    {
     "name": "stdout",
     "output_type": "stream",
     "text": [
      "I have 10 apples\n"
     ]
    }
   ],
   "source": [
    "print(f\"I have {a} {item}\")"
   ]
  },
  {
   "cell_type": "markdown",
   "id": "9fcbbc9b",
   "metadata": {},
   "source": [
    "### 2. Manually calling close on a file"
   ]
  },
  {
   "cell_type": "code",
   "execution_count": 3,
   "id": "845230f9",
   "metadata": {},
   "outputs": [],
   "source": [
    "def manual_file_close(filename):\n",
    "    f = open(filename, 'w')\n",
    "    f.write(\"hello!\\n\") # in this case if the write clause throws an exception the file will never be closed!\n",
    "    f.close()"
   ]
  },
  {
   "cell_type": "code",
   "execution_count": 4,
   "id": "156ce188",
   "metadata": {},
   "outputs": [],
   "source": [
    "# use a with statement that ensures the file is closed even if the exception is thrown\n",
    "\n",
    "def open_and_close_file(filename):\n",
    "    with open(filename) as f:\n",
    "        f.write(\"hello!\\n\")"
   ]
  },
  {
   "cell_type": "code",
   "execution_count": null,
   "id": "1bc47632",
   "metadata": {},
   "outputs": [],
   "source": []
  },
  {
   "cell_type": "code",
   "execution_count": 7,
   "id": "3f1b7ff0",
   "metadata": {},
   "outputs": [],
   "source": [
    "### 3. Use try finally instead of a context manager!\n",
    "\n",
    "def finally_instead_of_context_manager(host, port):\n",
    "    s = socket.socket(socket.AF_INET, socket.SOCK_STREAM)\n",
    "    try:\n",
    "        s.connect((host, port))\n",
    "        s.sendall(b'Hello, world')\n",
    "    finally:\n",
    "        s.close()\n",
    "        \n",
    "# just like for opening file, that we do not need to close, byusing with\n",
    "\n",
    "\n",
    "def finally_instead_of_context_manager(host, port):\n",
    "    with socket.socket(socket.AF_INET, socket.SOCK_STREAM) as s:\n",
    "    \n",
    "        s.connect((host, port))\n",
    "        s.sendall(b'Hello, world')\n",
    "\n"
   ]
  },
  {
   "cell_type": "code",
   "execution_count": null,
   "id": "62d9a4cb",
   "metadata": {},
   "outputs": [],
   "source": []
  },
  {
   "cell_type": "markdown",
   "id": "1a69d6d0",
   "metadata": {},
   "source": [
    "### 5. using a bare except clause\n",
    "\n",
    "keyboard interrupts and sys exits are propagated using exceptions, so a bare except will catch a user hitting CTRL+C"
   ]
  },
  {
   "cell_type": "code",
   "execution_count": 6,
   "id": "05d0c57d",
   "metadata": {},
   "outputs": [],
   "source": [
    "def bare_except():\n",
    "    while True:\n",
    "        try:\n",
    "            s = input(\"Input a number\")\n",
    "            x = int(s)\n",
    "            break\n",
    "        except:\n",
    "            print(\"Not a number\")"
   ]
  },
  {
   "cell_type": "code",
   "execution_count": 7,
   "id": "1167262e",
   "metadata": {},
   "outputs": [],
   "source": [
    "#bare_except()"
   ]
  },
  {
   "cell_type": "code",
   "execution_count": 8,
   "id": "99f213a6",
   "metadata": {},
   "outputs": [],
   "source": [
    "def bare_except(): # better but still lazy!\n",
    "    while True:\n",
    "        try:\n",
    "            s = input(\"Input a number\")\n",
    "            x = int(s)\n",
    "            break\n",
    "        except Exception:\n",
    "            print(\"Not a number\")"
   ]
  },
  {
   "cell_type": "code",
   "execution_count": 9,
   "id": "b4401d05",
   "metadata": {},
   "outputs": [
    {
     "name": "stdout",
     "output_type": "stream",
     "text": [
      "Overwriting bare_except.py\n"
     ]
    }
   ],
   "source": [
    "%%writefile bare_except.py\n",
    "def bare_except():\n",
    "    while True:\n",
    "        try:\n",
    "            s = input(\"Input a number\")\n",
    "            x = int(s)\n",
    "            break\n",
    "        except:\n",
    "            print(\"Not a number\")\n",
    "            \n",
    "if __name__ == \"__main__\":\n",
    "    bare_except()\n"
   ]
  },
  {
   "cell_type": "code",
   "execution_count": 12,
   "id": "902c5e4d",
   "metadata": {},
   "outputs": [
    {
     "name": "stdout",
     "output_type": "stream",
     "text": [
      "Overwriting bare_except2.py\n"
     ]
    }
   ],
   "source": [
    "%%writefile bare_except2.py\n",
    "def bare_except():\n",
    "    while True:\n",
    "        try:\n",
    "            s = input(\"Input a number\")\n",
    "            x = int(s)\n",
    "            break\n",
    "        except Exception:\n",
    "            print(\"Not a number\")\n",
    "            \n",
    "            \n",
    "if __name__ == \"__main__\":\n",
    "    bare_except()\n"
   ]
  },
  {
   "cell_type": "code",
   "execution_count": 13,
   "id": "4c613091",
   "metadata": {},
   "outputs": [
    {
     "name": "stdout",
     "output_type": "stream",
     "text": [
      "Writing bare_except3.py\n"
     ]
    }
   ],
   "source": [
    "%%writefile bare_except3.py\n",
    "def bare_except():\n",
    "    while True:\n",
    "        try:\n",
    "            s = input(\"Input a number\")\n",
    "            x = int(s)\n",
    "            break\n",
    "        except ValueError:\n",
    "            print(\"Not a number\")\n",
    "            \n",
    "            \n",
    "if __name__ == \"__main__\":\n",
    "    bare_except()\n"
   ]
  },
  {
   "cell_type": "code",
   "execution_count": 15,
   "id": "3126330b",
   "metadata": {},
   "outputs": [],
   "source": [
    "# 5. use of caret instead of ** a**x not a^x , that is bitwise XOR"
   ]
  },
  {
   "cell_type": "markdown",
   "id": "828f97d9",
   "metadata": {},
   "source": [
    "### 6. any use of default mutable arguments\n",
    "args defs are derined when func is defined\n",
    "not when it is run\n",
    "\n",
    "so every call to the function is sharing the same list"
   ]
  },
  {
   "cell_type": "code",
   "execution_count": 18,
   "id": "621bca0c",
   "metadata": {},
   "outputs": [],
   "source": [
    "# bad!\n",
    "def append(n , l = []):\n",
    "    l.append(n)\n",
    "    return l"
   ]
  },
  {
   "cell_type": "code",
   "execution_count": 19,
   "id": "62d561a5",
   "metadata": {},
   "outputs": [
    {
     "data": {
      "text/plain": [
       "[0]"
      ]
     },
     "execution_count": 19,
     "metadata": {},
     "output_type": "execute_result"
    }
   ],
   "source": [
    "l1 = append(0)\n",
    "l1"
   ]
  },
  {
   "cell_type": "code",
   "execution_count": 20,
   "id": "1f240357",
   "metadata": {},
   "outputs": [
    {
     "data": {
      "text/plain": [
       "[0, 1]"
      ]
     },
     "execution_count": 20,
     "metadata": {},
     "output_type": "execute_result"
    }
   ],
   "source": [
    "l2 = append(1)\n",
    "l1"
   ]
  },
  {
   "cell_type": "code",
   "execution_count": 21,
   "id": "a940826b",
   "metadata": {},
   "outputs": [
    {
     "data": {
      "text/plain": [
       "[0, 1]"
      ]
     },
     "execution_count": 21,
     "metadata": {},
     "output_type": "execute_result"
    }
   ],
   "source": [
    "l2"
   ]
  },
  {
   "cell_type": "code",
   "execution_count": 22,
   "id": "52c7b17c",
   "metadata": {},
   "outputs": [],
   "source": [
    "# oops! so the list is not empty when we call it the 2nd time"
   ]
  },
  {
   "cell_type": "code",
   "execution_count": 23,
   "id": "a37ec4dd",
   "metadata": {},
   "outputs": [],
   "source": [
    "# right way - set to None and logical check and default assign\n",
    "def append(n , l = None):\n",
    "    if l is None:\n",
    "        l = []\n",
    "    l.append(n)\n",
    "    return l"
   ]
  },
  {
   "cell_type": "code",
   "execution_count": 24,
   "id": "5eed67a1",
   "metadata": {},
   "outputs": [
    {
     "data": {
      "text/plain": [
       "[0]"
      ]
     },
     "execution_count": 24,
     "metadata": {},
     "output_type": "execute_result"
    }
   ],
   "source": [
    "l1 = append(0)\n",
    "l1"
   ]
  },
  {
   "cell_type": "code",
   "execution_count": 25,
   "id": "fd56465c",
   "metadata": {},
   "outputs": [
    {
     "data": {
      "text/plain": [
       "[0]"
      ]
     },
     "execution_count": 25,
     "metadata": {},
     "output_type": "execute_result"
    }
   ],
   "source": [
    "l2 = append(1)\n",
    "l1"
   ]
  },
  {
   "cell_type": "code",
   "execution_count": 26,
   "id": "58a5c073",
   "metadata": {},
   "outputs": [
    {
     "data": {
      "text/plain": [
       "[1]"
      ]
     },
     "execution_count": 26,
     "metadata": {},
     "output_type": "execute_result"
    }
   ],
   "source": [
    "l2"
   ]
  },
  {
   "cell_type": "code",
   "execution_count": null,
   "id": "8d81ef3a",
   "metadata": {},
   "outputs": [],
   "source": []
  }
 ],
 "metadata": {
  "kernelspec": {
   "display_name": "Python 3 (ipykernel)",
   "language": "python",
   "name": "python3"
  },
  "language_info": {
   "codemirror_mode": {
    "name": "ipython",
    "version": 3
   },
   "file_extension": ".py",
   "mimetype": "text/x-python",
   "name": "python",
   "nbconvert_exporter": "python",
   "pygments_lexer": "ipython3",
   "version": "3.7.11"
  }
 },
 "nbformat": 4,
 "nbformat_minor": 5
}
